{
  "nbformat": 4,
  "nbformat_minor": 0,
  "metadata": {
    "colab": {
      "provenance": []
    },
    "kernelspec": {
      "name": "python3",
      "display_name": "Python 3"
    },
    "language_info": {
      "name": "python"
    }
  },
  "cells": [
    {
      "cell_type": "code",
      "execution_count": null,
      "metadata": {
        "colab": {
          "base_uri": "https://localhost:8080/"
        },
        "id": "XsgVcLsBwPgp",
        "outputId": "a7d18554-240e-4ede-d1da-9b2eefc6558d"
      },
      "outputs": [
        {
          "output_type": "stream",
          "name": "stdout",
          "text": [
            "Enter the Number:30\n",
            "[2, 3, 5, 7, 11, 13, 17, 19, 23, 29]\n",
            "10\n"
          ]
        }
      ],
      "source": [
        "n=int(input(\"Enter the Number:\"))\n",
        "l1=[]\n",
        "for i in range (0,n+1):\n",
        "  co=0\n",
        "  for j in range (1,i+1):\n",
        "    if i%j==0:\n",
        "      co+=1\n",
        "  if co==2:\n",
        "    l1.append(i)\n",
        "print(l1)\n",
        "print(len(l1))\n"
      ]
    },
    {
      "cell_type": "markdown",
      "source": [
        "One hot summer day Pete and his friend Billy decided to buy a watermelon. They chose the biggest and the ripest one, in their opinion. After that the watermelon was weighed, and the scales showed w kilos. They rushed home, dying of thirst, and decided to divide the berry, however they faced a hard problem.\n",
        "\n",
        "Pete and Billy are great fans of even numbers, that's why they want to divide the watermelon in such a way that each of the two parts weighs even number of kilos, at the same time it is not obligatory that the parts are equal. The boys are extremely tired and want to start their meal as soon as possible, that's why you should help them and find out, if they can divide the watermelon in the way they want. For sure, each of them should get a part of positive weight.\n",
        "\n",
        "Input\n",
        "The first (and the only) input line contains integer number w (1 ≤ w ≤ 100) — the weight of the watermelon bought by the boys.\n",
        "\n",
        "Output\n",
        "Print YES, if the boys can divide the watermelon into two parts, each of them weighing even number of kilos; and NO in the opposite case.\n",
        "\n",
        "Examples\n",
        "InputCopy\n",
        "8\n",
        "OutputCopy\n",
        "YES\n",
        "Note\n",
        "For example, the boys can divide the watermelon into two parts of 2 and 6 kilos respectively (another variant — two parts of 4 and 4 kilos).\n",
        "\n"
      ],
      "metadata": {
        "id": "uF8IbWVv6rKm"
      }
    },
    {
      "cell_type": "code",
      "source": [
        "w=int(input(\"Enter the weight of watermelon: \"))\n",
        "if(w%2!=0 or w==2):\n",
        "  print(\"No\")\n",
        "else:\n",
        "  s=w//2\n",
        "  if(s%2==0):\n",
        "    print(s,s)\n",
        "  else:\n",
        "    print(s-1,s+1)\n",
        "\n",
        "\n",
        "\n"
      ],
      "metadata": {
        "colab": {
          "base_uri": "https://localhost:8080/"
        },
        "id": "_yus2lVHzpYn",
        "outputId": "dae6c930-9304-475a-9196-62755eda86e4"
      },
      "execution_count": null,
      "outputs": [
        {
          "output_type": "stream",
          "name": "stdout",
          "text": [
            "Enter the weight of watermelon: 2\n",
            "No\n"
          ]
        }
      ]
    },
    {
      "cell_type": "markdown",
      "source": [
        "A. Elephant\n",
        "time limit per test1 second\n",
        "memory limit per test256 megabytes\n",
        "An elephant decided to visit his friend. It turned out that the elephant's house is located at point 0 and his friend's house is located at point x(x > 0) of the coordinate line. In one step the elephant can move 1, 2, 3, 4 or 5 positions forward. Determine, what is the minimum number of steps he need to make in order to get to his friend's house.\n",
        "\n",
        "Input\n",
        "The first line of the input contains an integer x (1 ≤ x ≤ 1 000 000) — The coordinate of the friend's house.\n",
        "\n",
        "Output\n",
        "Print the minimum number of steps that elephant needs to make to get from point 0 to point x.\n",
        "\n",
        "Examples\n",
        "InputCopy\n",
        "5\n",
        "OutputCopy\n",
        "1\n",
        "InputCopy\n",
        "12\n",
        "OutputCopy\n",
        "3\n",
        "Note\n",
        "In the first sample the elephant needs to make one step of length 5 to reach the point x.\n",
        "\n",
        "In the second sample the elephant can get to point x if he moves by 3, 5 and 4. There are other ways to get the optimal answer but the elephant cannot reach x in less than three moves."
      ],
      "metadata": {
        "id": "R_AiXnbQF8CG"
      }
    },
    {
      "cell_type": "code",
      "source": [
        "n=int(input())\n",
        "if n%5==0:\n",
        "  print(n//5)\n",
        "else:\n",
        "  print(n//5+1)\n"
      ],
      "metadata": {
        "colab": {
          "base_uri": "https://localhost:8080/"
        },
        "id": "C9t-KBwM68lM",
        "outputId": "ae59a9a9-995d-44db-c3f6-2de682e27c34"
      },
      "execution_count": null,
      "outputs": [
        {
          "output_type": "stream",
          "name": "stdout",
          "text": [
            "14\n",
            "3\n"
          ]
        }
      ]
    },
    {
      "cell_type": "code",
      "source": [
        "m,n=(map(int,input().split()))\n",
        "if(m%n==0):\n",
        "  print(m//n)\n",
        "else:\n",
        "  print(m//n+m%n)"
      ],
      "metadata": {
        "colab": {
          "base_uri": "https://localhost:8080/"
        },
        "id": "7E2YA5HuKpZB",
        "outputId": "6707a7be-6923-45ed-b39c-bb5577137f3d"
      },
      "execution_count": null,
      "outputs": [
        {
          "output_type": "stream",
          "name": "stdout",
          "text": [
            "11 3\n",
            "5\n"
          ]
        }
      ]
    },
    {
      "cell_type": "markdown",
      "source": [
        "A. Bear and Big Brother\n",
        "time limit per test1 second\n",
        "memory limit per test256 megabytes\n",
        "Bear Limak wants to become the largest of bears, or at least to become larger than his brother Bob.\n",
        "\n",
        "Right now, Limak and Bob weigh a and b respectively. It's guaranteed that Limak's weight is smaller than or equal to his brother's weight.\n",
        "\n",
        "Limak eats a lot and his weight is tripled after every year, while Bob's weight is doubled after every year.\n",
        "\n",
        "After how many full years will Limak become strictly larger (strictly heavier) than Bob?\n",
        "\n",
        "Input\n",
        "The only line of the input contains two integers a and b (1 ≤ a ≤ b ≤ 10) — the weight of Limak and the weight of Bob respectively.\n",
        "\n",
        "Output\n",
        "Print one integer, denoting the integer number of years after which Limak will become strictly larger than Bob.\n",
        "\n",
        "Examples\n",
        "InputCopy\n",
        "4 7\n",
        "OutputCopy\n",
        "2\n",
        "InputCopy\n",
        "4 9\n",
        "OutputCopy\n",
        "3\n",
        "InputCopy\n",
        "1 1\n",
        "OutputCopy\n",
        "1\n",
        "Note\n",
        "In the first sample, Limak weighs 4 and Bob weighs 7 initially. After one year their weights are 4·3 = 12 and 7·2 = 14 respectively (one weight is tripled while the other one is doubled). Limak isn't larger than Bob yet. After the second year weights are 36 and 28, so the first weight is greater than the second one. Limak became larger than Bob after two years so you should print 2.\n",
        "\n",
        "In the second sample, Limak's and Bob's weights in next years are: 12 and 18, then 36 and 36, and finally 108 and 72 (after three years). The answer is 3. Remember that Limak wants to be larger than Bob and he won't be satisfied with equal weights.\n",
        "\n",
        "In the third sample, Limak becomes larger than Bob after the first year. Their weights will be 3 and 2 then.\n",
        "\n",
        "\n"
      ],
      "metadata": {
        "id": "aUUC7luamry0"
      }
    },
    {
      "cell_type": "code",
      "source": [
        "a,b=(map(int,input().split()))\n",
        "year=0\n",
        "while(a<=b):\n",
        "  a=3*a\n",
        "  b=2*b\n",
        "  year+=1\n",
        "print(year)\n"
      ],
      "metadata": {
        "id": "smhb7Hu7R7ID",
        "colab": {
          "base_uri": "https://localhost:8080/"
        },
        "outputId": "812285bb-0bb8-4972-e597-e76a9eeff41a"
      },
      "execution_count": null,
      "outputs": [
        {
          "output_type": "stream",
          "name": "stdout",
          "text": [
            "1 1\n",
            "1\n"
          ]
        }
      ]
    },
    {
      "cell_type": "markdown",
      "source": [
        "A. Cheap Travel\n",
        "time limit per test1 second\n",
        "memory limit per test256 megabytes\n",
        "Ann has recently started commuting by subway. We know that a one ride subway ticket costs a rubles. Besides, Ann found out that she can buy a special ticket for m rides (she can buy it several times). It costs b rubles. Ann did the math; she will need to use subway n times. Help Ann, tell her what is the minimum sum of money she will have to spend to make n rides?\n",
        "\n",
        "Input\n",
        "The single line contains four space-separated integers n, m, a, b (1 ≤ n, m, a, b ≤ 1000) — the number of rides Ann has planned, the number of rides covered by the m ride ticket, the price of a one ride ticket and the price of an m ride ticket.\n",
        "\n",
        "Output\n",
        "Print a single integer — the minimum sum in rubles that Ann will need to spend.\n",
        "\n",
        "Examples\n",
        "InputCopy\n",
        "6 2 1 2\n",
        "OutputCopy\n",
        "6\n",
        "InputCopy\n",
        "5 2 2 3\n",
        "OutputCopy\n",
        "8\n",
        "Note\n",
        "In the first sample one of the optimal solutions is: each time buy a one ride ticket. There are other optimal solutions. For example, buy three m ride tickets.\n",
        "\n"
      ],
      "metadata": {
        "id": "jFvBovDUpxuz"
      }
    },
    {
      "cell_type": "code",
      "source": [
        "n,m,a,b=(map(int,input().split()))\n",
        "if(m*a<b):\n",
        "  print(n*a)\n",
        "else:\n",
        "  print(n//m*b+min((n%m)*a,b))"
      ],
      "metadata": {
        "colab": {
          "base_uri": "https://localhost:8080/"
        },
        "id": "SS2ycx8Nm0ta",
        "outputId": "27fb08df-037b-48e8-c417-4e101bf70651"
      },
      "execution_count": null,
      "outputs": [
        {
          "output_type": "stream",
          "name": "stdout",
          "text": [
            "5 2 2 3\n",
            "8\n"
          ]
        }
      ]
    },
    {
      "cell_type": "code",
      "source": [
        "l=[2,7,8,9]\n",
        "t=9\n",
        "n=len(l)\n",
        "for i in range(0,n):\n",
        "  for j in range(i+1,n):\n",
        "    if(l[i]+l[j]==t):\n",
        "      print(i,j)\n"
      ],
      "metadata": {
        "colab": {
          "base_uri": "https://localhost:8080/"
        },
        "id": "zWCuMBP2EVPm",
        "outputId": "78b76409-30c4-4965-a996-8c43ed7392d5"
      },
      "execution_count": null,
      "outputs": [
        {
          "output_type": "stream",
          "name": "stdout",
          "text": [
            "0 1\n"
          ]
        }
      ]
    }
  ]
}