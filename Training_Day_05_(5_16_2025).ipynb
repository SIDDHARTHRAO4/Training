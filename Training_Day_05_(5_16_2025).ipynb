{
  "nbformat": 4,
  "nbformat_minor": 0,
  "metadata": {
    "colab": {
      "provenance": []
    },
    "kernelspec": {
      "name": "python3",
      "display_name": "Python 3"
    },
    "language_info": {
      "name": "python"
    }
  },
  "cells": [
    {
      "cell_type": "markdown",
      "source": [
        "BackTracking"
      ],
      "metadata": {
        "id": "MgTZxtf_QADi"
      }
    },
    {
      "cell_type": "code",
      "source": [
        "r=int(input(\"no.of rows:\"))\n",
        "c=int(input(\"no.of columns:\"))\n",
        "matrix=[]\n",
        "for i in range (r):\n",
        "  for j in range (c):\n",
        "    matrix[i][j]=int(input())\n",
        "print(matrix)\n",
        "\n",
        "\n"
      ],
      "metadata": {
        "colab": {
          "base_uri": "https://localhost:8080/",
          "height": 263
        },
        "id": "KiTElWFnQA1l",
        "outputId": "957804a0-834a-4be2-fb4e-7ae2addf4335"
      },
      "execution_count": null,
      "outputs": [
        {
          "name": "stdout",
          "output_type": "stream",
          "text": [
            "no.of rows:3\n",
            "no.of columns:3\n",
            "1\n"
          ]
        },
        {
          "output_type": "error",
          "ename": "IndexError",
          "evalue": "list index out of range",
          "traceback": [
            "\u001b[0;31m---------------------------------------------------------------------------\u001b[0m",
            "\u001b[0;31mIndexError\u001b[0m                                Traceback (most recent call last)",
            "\u001b[0;32m<ipython-input-4-efc867ff2da7>\u001b[0m in \u001b[0;36m<cell line: 0>\u001b[0;34m()\u001b[0m\n\u001b[1;32m      4\u001b[0m \u001b[0;32mfor\u001b[0m \u001b[0mi\u001b[0m \u001b[0;32min\u001b[0m \u001b[0mrange\u001b[0m \u001b[0;34m(\u001b[0m\u001b[0mr\u001b[0m\u001b[0;34m)\u001b[0m\u001b[0;34m:\u001b[0m\u001b[0;34m\u001b[0m\u001b[0;34m\u001b[0m\u001b[0m\n\u001b[1;32m      5\u001b[0m   \u001b[0;32mfor\u001b[0m \u001b[0mj\u001b[0m \u001b[0;32min\u001b[0m \u001b[0mrange\u001b[0m \u001b[0;34m(\u001b[0m\u001b[0mc\u001b[0m\u001b[0;34m)\u001b[0m\u001b[0;34m:\u001b[0m\u001b[0;34m\u001b[0m\u001b[0;34m\u001b[0m\u001b[0m\n\u001b[0;32m----> 6\u001b[0;31m     \u001b[0mmatrix\u001b[0m\u001b[0;34m[\u001b[0m\u001b[0mi\u001b[0m\u001b[0;34m]\u001b[0m\u001b[0;34m[\u001b[0m\u001b[0mj\u001b[0m\u001b[0;34m]\u001b[0m\u001b[0;34m=\u001b[0m\u001b[0mint\u001b[0m\u001b[0;34m(\u001b[0m\u001b[0minput\u001b[0m\u001b[0;34m(\u001b[0m\u001b[0;34m)\u001b[0m\u001b[0;34m)\u001b[0m\u001b[0;34m\u001b[0m\u001b[0;34m\u001b[0m\u001b[0m\n\u001b[0m\u001b[1;32m      7\u001b[0m \u001b[0mprint\u001b[0m\u001b[0;34m(\u001b[0m\u001b[0mmatrix\u001b[0m\u001b[0;34m)\u001b[0m\u001b[0;34m\u001b[0m\u001b[0;34m\u001b[0m\u001b[0m\n\u001b[1;32m      8\u001b[0m \u001b[0;34m\u001b[0m\u001b[0m\n",
            "\u001b[0;31mIndexError\u001b[0m: list index out of range"
          ]
        }
      ]
    },
    {
      "cell_type": "code",
      "source": [
        "rows = int(input(\"Enter number of rows: \"))\n",
        "cols = int(input(\"Enter number of columns: \"))\n",
        "\n",
        "matrix = []\n",
        "\n",
        "for i in range(rows):\n",
        "    row = list(map(int, input(f\"Enter row {i+1} values (space-separated): \").split()))\n",
        "    matrix.append(row)\n",
        "\n",
        "print(\"Matrix:\")\n",
        "summ=0\n",
        "for row in matrix:\n",
        "    print(row)\n",
        "for i in range(rows):\n",
        "    for j in range(cols):\n",
        "      summ+=matrix[i][j]\n",
        "print(summ)\n"
      ],
      "metadata": {
        "colab": {
          "base_uri": "https://localhost:8080/"
        },
        "id": "MGu_MolfT7KC",
        "outputId": "fe78c297-f6e6-4baf-b937-ec62c3624642"
      },
      "execution_count": null,
      "outputs": [
        {
          "output_type": "stream",
          "name": "stdout",
          "text": [
            "Enter number of rows: 3\n",
            "Enter number of columns: 3\n",
            "Enter row 1 values (space-separated): 1 2 3 \n",
            "Enter row 2 values (space-separated): 4 5 6\n",
            "Enter row 3 values (space-separated): 7 8  9\n",
            "Matrix:\n",
            "[1, 2, 3]\n",
            "[4, 5, 6]\n",
            "[7, 8, 9]\n",
            "45\n"
          ]
        }
      ]
    },
    {
      "cell_type": "code",
      "execution_count": null,
      "metadata": {
        "colab": {
          "base_uri": "https://localhost:8080/"
        },
        "id": "A9Fl1zNUO9UD",
        "outputId": "20784ca0-aa90-448e-9078-5189f6d7855c"
      },
      "outputs": [
        {
          "output_type": "stream",
          "name": "stdout",
          "text": [
            "Enter number of rows: 4\n",
            "Enter number of columns: 4\n",
            "Enter row 1 values (space-separated): 1 1 1 0\n",
            "Enter row 2 values (space-separated): 0 1 1 0\n",
            "Enter row 3 values (space-separated): 0 1 1 1\n",
            "Enter row 4 values (space-separated): 0 1 1 1 \n",
            "RDDDRR\n",
            "RDDRDR\n",
            "RDDRRD\n",
            "RDRDDR\n",
            "RDRDRD\n",
            "RRDDDR\n",
            "RRDDRD\n"
          ]
        }
      ],
      "source": [
        "def path(m,i,j,p,n):\n",
        "  if i==n-1 and j==n-1:\n",
        "    print(p)\n",
        "    return\n",
        "  if i<n-1 and m[i+1][j]==1:\n",
        "    path(m,i+1,j,p+\"D\",n)\n",
        "  if j<n-1 and m[i][j+1]:\n",
        "    path(m,i,j+1,p+\"R\",n)\n",
        "\n",
        "rows = int(input(\"Enter number of rows: \"))\n",
        "cols = int(input(\"Enter number of columns: \"))\n",
        "\n",
        "m = []\n",
        "\n",
        "for i in range(rows):\n",
        "    row = list(map(int, input(f\"Enter row {i+1} values (space-separated): \").split()))\n",
        "    m.append(row)\n",
        "\n",
        "path(m,0,0,\"\",rows)\n"
      ]
    },
    {
      "cell_type": "code",
      "source": [
        "def path(m,i,j,p,n):\n",
        "  if i==n-1 and j==n-1:\n",
        "    print(m.count(1)-p)\n",
        "    return\n",
        "  if i<n-1 and m[i+1][j]==1:\n",
        "    path(m,i+1,j,p+1,n)\n",
        "  if j<n-1 and m[i][j+1]:\n",
        "    path(m,i,j+1,p+1,n)\n",
        "\n",
        "rows = int(input(\"Enter number of rows: \"))\n",
        "cols = int(input(\"Enter number of columns: \"))\n",
        "\n",
        "m = []\n",
        "\n",
        "for i in range(rows):\n",
        "    row = list(map(int, input(f\"Enter row {i+1} values (space-separated): \").split()))\n",
        "    m.append(row)\n",
        "\n",
        "path(m,0,0,0,rows)"
      ],
      "metadata": {
        "colab": {
          "base_uri": "https://localhost:8080/"
        },
        "id": "59zoFexRhkN3",
        "outputId": "9357dc91-0d44-42a8-efa6-db35681fc3bb"
      },
      "execution_count": null,
      "outputs": [
        {
          "name": "stdout",
          "output_type": "stream",
          "text": [
            "Enter number of rows: 4\n",
            "Enter number of columns: 5\n",
            "Enter row 1 values (space-separated): 1 1 1 0 1\n",
            "Enter row 2 values (space-separated): 0 1 1 1 0\n",
            "Enter row 3 values (space-separated): 0 0 0 1 0\n",
            "Enter row 4 values (space-separated): 1 1 0 0 1\n"
          ]
        }
      ]
    },
    {
      "cell_type": "code",
      "source": [
        "def island(m,i,j):\n",
        "    if not m:\n",
        "        return\n",
        "    if i<0 or i>=len(m) or j<0 or j>=len(m) or m[i][j]!=1:\n",
        "        return\n",
        "    m[i][j]=2\n",
        "    island(m,i+1,j)\n",
        "    island(m,i-1,j)\n",
        "    island(m,i,j+1)\n",
        "    island(m,i,j-1)\n",
        "    return m\n",
        "\n",
        "m=([[1,1,1,0,1],\n",
        "     [0,1,1,1,0],\n",
        "     [0,0,0,1,0],\n",
        "     [1,1,0,0,1]])\n",
        "print(island(m,0,0))\n",
        "count=0\n",
        "for i in range(len(m)):\n",
        "  for j in range(len(m[0])):\n",
        "    if m[i][j]==1:\n",
        "      count+=1\n",
        "print(count)\n"
      ],
      "metadata": {
        "colab": {
          "base_uri": "https://localhost:8080/"
        },
        "id": "QqqfZTcEn46l",
        "outputId": "4f3e27e4-7bf2-47c5-9aad-fff4c40b5d4a"
      },
      "execution_count": null,
      "outputs": [
        {
          "output_type": "stream",
          "name": "stdout",
          "text": [
            "[[2, 2, 2, 0, 1], [0, 2, 2, 2, 0], [0, 0, 0, 2, 0], [1, 1, 0, 0, 1]]\n",
            "4\n"
          ]
        }
      ]
    },
    {
      "cell_type": "code",
      "source": [
        "def island(m,i,j):\n",
        "    if not m:\n",
        "        return\n",
        "    if i<0 or i>=len(m) or j<0 or j>=len(m) or m[i][j]!=1:\n",
        "        return\n",
        "    m[i][j]=2\n",
        "    island(m,i+1,j)\n",
        "    island(m,i-1,j)\n",
        "    island(m,i,j+1)\n",
        "    island(m,i,j-1)\n",
        "    return m\n",
        "\n",
        "m=([[1,1,1,0,1],\n",
        "     [0,1,1,1,0],\n",
        "     [0,0,0,1,0],\n",
        "     [1,1,0,0,1]])\n",
        "print(island(m,0,0))\n",
        "count=0\n",
        "for i in range(len(m)):\n",
        "  for j in range(len(m[0])):\n",
        "    if m[i][j]==1:\n",
        "      island(m,i,j)\n",
        "      count+=1\n",
        "print(count)"
      ],
      "metadata": {
        "colab": {
          "base_uri": "https://localhost:8080/"
        },
        "id": "buiCJm2JuXxl",
        "outputId": "5c0c1458-a50b-4f0e-a13c-c4be9b582521"
      },
      "execution_count": null,
      "outputs": [
        {
          "output_type": "stream",
          "name": "stdout",
          "text": [
            "[[2, 2, 2, 0, 1], [0, 2, 2, 2, 0], [0, 0, 0, 2, 0], [1, 1, 0, 0, 1]]\n",
            "3\n"
          ]
        }
      ]
    },
    {
      "cell_type": "code",
      "source": [
        "def binary(n,res=\"\"):\n",
        "  if n==0:\n",
        "    print(res)\n",
        "    return\n",
        "  binary(n-1,res+\"0 \")\n",
        "  binary(n-1,res+\"1 \")\n",
        "n=2\n",
        "binary(n)\n"
      ],
      "metadata": {
        "colab": {
          "base_uri": "https://localhost:8080/"
        },
        "id": "dh3cblNG2beP",
        "outputId": "e53a64df-aa74-4573-8d8f-f9fbc7e2e5d2"
      },
      "execution_count": null,
      "outputs": [
        {
          "output_type": "stream",
          "name": "stdout",
          "text": [
            "0 0 \n",
            "0 1 \n",
            "1 0 \n",
            "1 1 \n"
          ]
        }
      ]
    },
    {
      "cell_type": "code",
      "source": [
        "def binary(n,res=\"\",o=0,c=0):\n",
        "    if o==n and c==n:\n",
        "        print(res)\n",
        "        return\n",
        "    if o<n:\n",
        "        binary(n,res+\"(\",o+1,c)\n",
        "    if c<o:\n",
        "        binary(n,res+\")\",o,c+1)\n",
        "n=2\n",
        "binary(n)"
      ],
      "metadata": {
        "colab": {
          "base_uri": "https://localhost:8080/"
        },
        "id": "HjDH3-28Jo-p",
        "outputId": "73ba07a3-aee2-494d-8fd6-b836e8f0d3a9"
      },
      "execution_count": null,
      "outputs": [
        {
          "output_type": "stream",
          "name": "stdout",
          "text": [
            "(())\n",
            "()()\n"
          ]
        }
      ]
    },
    {
      "cell_type": "markdown",
      "source": [
        "Given an m x n 2D binary grid grid which represents a map of '1's (land) and '0's (water), return the number of islands.\n",
        "\n",
        "An island is surrounded by water and is formed by connecting adjacent lands horizontally or vertically. You may assume all four edges of the grid are all surrounded by water.\n",
        "\n",
        "\n",
        "\n",
        "Example 1:\n",
        "\n",
        "Input: grid = [\n",
        "  [\"1\",\"1\",\"1\",\"1\",\"0\"],\n",
        "  [\"1\",\"1\",\"0\",\"1\",\"0\"],\n",
        "  [\"1\",\"1\",\"0\",\"0\",\"0\"],\n",
        "  [\"0\",\"0\",\"0\",\"0\",\"0\"]\n",
        "]\n",
        "Output: 1\n",
        "Example 2:\n",
        "\n",
        "Input: grid = [\n",
        "  [\"1\",\"1\",\"0\",\"0\",\"0\"],\n",
        "  [\"1\",\"1\",\"0\",\"0\",\"0\"],\n",
        "  [\"0\",\"0\",\"1\",\"0\",\"0\"],\n",
        "  [\"0\",\"0\",\"0\",\"1\",\"1\"]\n",
        "]\n",
        "Output: 3\n",
        "\n",
        "\n",
        "Constraints:\n",
        "\n",
        "m == grid.length\n",
        "n == grid[i].length\n",
        "1 <= m, n <= 300\n",
        "grid[i][j] is '0' or '1'."
      ],
      "metadata": {
        "id": "ihJlLKSjle3q"
      }
    },
    {
      "cell_type": "code",
      "source": [
        "class Solution:\n",
        "    def numIslands(self, grid):\n",
        "        if not grid:\n",
        "            return 0\n",
        "\n",
        "        rows, cols = len(grid), len(grid[0])\n",
        "        count = 0\n",
        "\n",
        "        def dfs(r, c):\n",
        "            # Base case: out of bounds or not land\n",
        "            if r < 0 or r >= rows or c < 0 or c >= cols or grid[r][c] != \"1\":\n",
        "                return\n",
        "            # Mark as visited\n",
        "            grid[r][c] = \"0\"\n",
        "            # Explore all four directions\n",
        "            dfs(r + 1, c)\n",
        "            dfs(r - 1, c)\n",
        "            dfs(r, c + 1)\n",
        "            dfs(r, c - 1)\n",
        "\n",
        "        for i in range(rows):\n",
        "            for j in range(cols):\n",
        "                if grid[i][j] == \"1\":\n",
        "                    dfs(i, j)\n",
        "                    count += 1\n",
        "\n",
        "        return count\n"
      ],
      "metadata": {
        "id": "5WNDwUsKlnCq"
      },
      "execution_count": null,
      "outputs": []
    },
    {
      "cell_type": "markdown",
      "source": [
        "Best Time to Buy and Sell Stock\n",
        "\n",
        "You are given an array prices where prices[i] is the price of a given stock on the ith day.\n",
        "\n",
        "You want to maximize your profit by choosing a single day to buy one stock and choosing a different day in the future to sell that stock.\n",
        "\n",
        "Return the maximum profit you can achieve from this transaction. If you cannot achieve any profit, return 0.\n",
        "\n",
        "\n",
        "\n",
        "Example 1:\n",
        "\n",
        "Input: prices = [7,1,5,3,6,4]\n",
        "Output: 5\n",
        "Explanation: Buy on day 2 (price = 1) and sell on day 5 (price = 6), profit = 6-1 = 5.\n",
        "Note that buying on day 2 and selling on day 1 is not allowed because you must buy before you sell.\n",
        "Example 2:\n",
        "\n",
        "Input: prices = [7,6,4,3,1]\n",
        "Output: 0\n",
        "Explanation: In this case, no transactions are done and the max profit = 0.\n",
        "\n",
        "\n",
        "Constraints:\n",
        "\n",
        "1 <= prices.length <= 105\n",
        "0 <= prices[i] <= 104"
      ],
      "metadata": {
        "id": "1henpzYDmgNh"
      }
    },
    {
      "cell_type": "code",
      "source": [
        "class Solution:\n",
        "    def maxProfit(self, prices: List[int]) -> int:\n",
        "        min_price=prices[0]\n",
        "        max_profit=0\n",
        "        for price in prices[1:]:\n",
        "            max_profit=max(max_profit,price-min_price)\n",
        "            min_price=min(min_price,price)\n",
        "        return max_profit"
      ],
      "metadata": {
        "id": "2FKMSmhhl9Cv"
      },
      "execution_count": null,
      "outputs": []
    },
    {
      "cell_type": "code",
      "source": [],
      "metadata": {
        "id": "x-CEeAz7mcTE"
      },
      "execution_count": null,
      "outputs": []
    }
  ]
}