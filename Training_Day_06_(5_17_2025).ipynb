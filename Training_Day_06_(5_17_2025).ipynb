{
  "nbformat": 4,
  "nbformat_minor": 0,
  "metadata": {
    "colab": {
      "provenance": []
    },
    "kernelspec": {
      "name": "python3",
      "display_name": "Python 3"
    },
    "language_info": {
      "name": "python"
    }
  },
  "cells": [
    {
      "cell_type": "code",
      "execution_count": 11,
      "metadata": {
        "colab": {
          "base_uri": "https://localhost:8080/"
        },
        "id": "G--Rfa03WpEv",
        "outputId": "710d41cb-3c33-4c22-c63f-2e8ae51d6a36"
      },
      "outputs": [
        {
          "output_type": "stream",
          "name": "stdout",
          "text": [
            "1 5 8 3 9\n",
            "[1, 3, 5, 8, 9]\n"
          ]
        }
      ],
      "source": [
        "l=list(map(int,input().split()))\n",
        "\n",
        "for i in range (0,len(l)):\n",
        "  if l ==sorted(l):\n",
        "    break\n",
        "  for j in range (1,len(l)-i):\n",
        "    if l[j]<l[j-1]:\n",
        "      l[j],l[j-1]=l[j-1],l[j]\n",
        "print(l)"
      ]
    },
    {
      "cell_type": "code",
      "source": [
        "l=list(map(int,input().split()))\n",
        "\n",
        "for i in range (0,len(l)):\n",
        "  flag=False\n",
        "  for j in range (1,len(l)-i):\n",
        "    if l[j]<l[j-1]:\n",
        "      l[j],l[j-1]=l[j-1],l[j]\n",
        "      flag=True\n",
        "  if not flag:\n",
        "    break\n",
        "\n",
        "\n",
        "\n",
        "print(l)"
      ],
      "metadata": {
        "colab": {
          "base_uri": "https://localhost:8080/"
        },
        "id": "2U5HkbpoeP6c",
        "outputId": "84ae4b16-b9a6-4a6f-8c8d-0c2a7d37f5b0"
      },
      "execution_count": 13,
      "outputs": [
        {
          "output_type": "stream",
          "name": "stdout",
          "text": [
            "1 5 8 3 9\n",
            "[1, 3, 5, 8, 9]\n"
          ]
        }
      ]
    },
    {
      "cell_type": "markdown",
      "source": [
        "Selection Sort"
      ],
      "metadata": {
        "id": "dMlGNBa3hB10"
      }
    },
    {
      "cell_type": "code",
      "source": [
        "l=list(map(int,input().split()))\n",
        "for i in range (0,len(l)):\n",
        "  minn=i\n",
        "  for j in range (i+1,len(l)):\n",
        "    if l[j]<l[minn]:\n",
        "      minn=j\n",
        "  l[i],l[minn]=l[minn],l[i]\n",
        "print(l)"
      ],
      "metadata": {
        "id": "vnYJPDdlhBNX"
      },
      "execution_count": null,
      "outputs": []
    },
    {
      "cell_type": "markdown",
      "source": [
        "lnsertion Sort"
      ],
      "metadata": {
        "id": "HbaEKCvIo9Qz"
      }
    },
    {
      "cell_type": "code",
      "source": [
        "l=list(map(int,input().split()))\n",
        "n=len(l)\n",
        "for i in range (0,n):\n",
        "  key=l[i]\n",
        "  j=i-1\n",
        "  while j>=0 and key<l[j]:\n",
        "    l[j+1]=l[j]\n",
        "    j=j-1\n",
        "  l[j+1]=key\n",
        "print(l)"
      ],
      "metadata": {
        "id": "QBiJv1z7npjN"
      },
      "execution_count": null,
      "outputs": []
    },
    {
      "cell_type": "code",
      "source": [
        "l=list(map(int,input().split()))\n",
        "n=len(l)\n",
        "l=sorted(l)\n",
        "result=[0]*max(l)\n",
        "j=0\n",
        "k=n-1\n",
        "for i in range(n-1,-1,-1):\n",
        "  if i%2==1:\n",
        "    result[k]=l[i]\n",
        "    k=k-1\n",
        "  else:\n",
        "    result[j]=l[i]\n",
        "    j=j+1\n",
        "print(result)\n",
        ""
      ],
      "metadata": {
        "id": "wHUAcCwppwHz"
      },
      "execution_count": null,
      "outputs": []
    },
    {
      "cell_type": "code",
      "source": [
        "l=[3,2,1,6,1,5,7]\n",
        "l.sort()\n",
        "res=[]\n",
        "for i in l:\n",
        "  if i%2!=0:\n",
        "    res.append(i)\n",
        "  else:\n",
        "    res.insert(0,i)\n",
        "print(res)"
      ],
      "metadata": {
        "id": "zoK7yxssxG46"
      },
      "execution_count": null,
      "outputs": []
    },
    {
      "cell_type": "code",
      "source": [
        "l=list(map(int,input().split()))\n",
        "l.sort()\n",
        "n=int(input())\n",
        "print(l[len(l)-n])"
      ],
      "metadata": {
        "colab": {
          "base_uri": "https://localhost:8080/"
        },
        "id": "SMV1XTgpySJa",
        "outputId": "8347d9d3-1531-411c-d817-3831d3ddc69e"
      },
      "execution_count": 27,
      "outputs": [
        {
          "output_type": "stream",
          "name": "stdout",
          "text": [
            "1 8 5 4 7 3 9\n",
            "4\n",
            "5\n"
          ]
        }
      ]
    },
    {
      "cell_type": "code",
      "source": [
        "l=list(map(int,input().split()))\n",
        "for i in range (2,len(l)-1):\n",
        "  for j in range (i,len(l)-1):\n",
        "    if l[j]<l[j+1]:\n",
        "      l[j],l[j+1]=l[j+1],l[j]\n",
        "print(l)\n"
      ],
      "metadata": {
        "colab": {
          "base_uri": "https://localhost:8080/"
        },
        "id": "SwCku1KM7SZt",
        "outputId": "0c47f186-3b2c-4874-8bc3-04d5b4827fc4"
      },
      "execution_count": 31,
      "outputs": [
        {
          "output_type": "stream",
          "name": "stdout",
          "text": [
            "2 3 5 1 6 9 8\n",
            "[2, 3, 5, 9, 8, 6, 1]\n"
          ]
        }
      ]
    },
    {
      "cell_type": "code",
      "source": [
        "l=[[1,2],[5,1],[2,4],[6,3]]\n",
        "for i in range (0,len(l)):\n",
        "  minn=i\n",
        "  for j in range (i+1,len(l)):\n",
        "    if l[j][1]<l[minn][1]:\n",
        "      minn=j\n",
        "  l[i],l[minn]=l[minn],l[i]\n",
        "print(l)"
      ],
      "metadata": {
        "colab": {
          "base_uri": "https://localhost:8080/"
        },
        "id": "sVUstbD5BL6T",
        "outputId": "a6f097f7-6337-4b89-9068-6253a5f30bf1"
      },
      "execution_count": 32,
      "outputs": [
        {
          "output_type": "stream",
          "name": "stdout",
          "text": [
            "[[5, 1], [1, 2], [6, 3], [2, 4]]\n"
          ]
        }
      ]
    },
    {
      "cell_type": "code",
      "source": [
        "def is_prime(n):\n",
        "    if n < 2:\n",
        "        return False\n",
        "    for i in range(2, int(n**0.5) + 1):\n",
        "        if n % i == 0:\n",
        "            return False\n",
        "    return True\n",
        "\n",
        "l=[[20,12,11],[10,5,22],[16,7,30]]\n",
        "l = [[20, 12, 11], [10, 5, 22], [16, 7, 30]]\n",
        "p = []\n",
        "for row in l:\n",
        "    for num in row:\n",
        "        if is_prime(num):\n",
        "            p.append(num)\n",
        "\n",
        "for i in range (0,len(l)):\n",
        "  for j in range (0,len(l)-i-1):\n",
        "    if p[j]>p[j+1]:\n",
        "      p[j],p[j+1]=p[j+1],p[j]\n",
        "      l[j],l[j+1]=l[j+1],l[j]\n",
        "print(l)\n",
        "\n"
      ],
      "metadata": {
        "colab": {
          "base_uri": "https://localhost:8080/"
        },
        "id": "yjyozXp6T4Xm",
        "outputId": "fb79fa79-7b36-462b-d770-72818d076918"
      },
      "execution_count": 43,
      "outputs": [
        {
          "output_type": "stream",
          "name": "stdout",
          "text": [
            "[[10, 5, 22], [16, 7, 30], [20, 12, 11]]\n"
          ]
        }
      ]
    },
    {
      "cell_type": "code",
      "source": [
        "l=list(map(int,input().split()))\n",
        "matrix=[]\n",
        "result=[]\n",
        "n=len(l)\n",
        "for i in range(0,n):\n",
        "  r=list(map(int,input().split()))\n",
        "  matrix.append(r)\n",
        "for i in range (0,len(matrix)):\n",
        "  total=0\n",
        "  for j in range (0,len(matrix[0])):\n",
        "    if matrix[i][j]==1:\n",
        "      total+=l[j]\n",
        "  result.append(total)\n",
        "print(result)\n",
        "\n"
      ],
      "metadata": {
        "colab": {
          "base_uri": "https://localhost:8080/"
        },
        "id": "Mtjs6fKBgaEc",
        "outputId": "7b5dc9f6-cc50-44f2-a188-59cfc7c8b261"
      },
      "execution_count": 45,
      "outputs": [
        {
          "output_type": "stream",
          "name": "stdout",
          "text": [
            "5 10 3 4\n",
            "1 0 0 1\n",
            "1 0 0 0\n",
            "0 0 1 0\n",
            "0 1 1 0\n",
            "[9, 5, 3, 13]\n"
          ]
        }
      ]
    },
    {
      "cell_type": "markdown",
      "source": [],
      "metadata": {
        "id": "6YwyQvJEnmJl"
      }
    },
    {
      "cell_type": "code",
      "source": [],
      "metadata": {
        "id": "7I_ELX47gyFk"
      },
      "execution_count": null,
      "outputs": []
    }
  ]
}