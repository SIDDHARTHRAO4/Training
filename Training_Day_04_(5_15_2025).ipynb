{
  "nbformat": 4,
  "nbformat_minor": 0,
  "metadata": {
    "colab": {
      "provenance": []
    },
    "kernelspec": {
      "name": "python3",
      "display_name": "Python 3"
    },
    "language_info": {
      "name": "python"
    }
  },
  "cells": [
    {
      "cell_type": "markdown",
      "source": [
        "parameter recurrsion"
      ],
      "metadata": {
        "id": "aHlFij3JHoEG"
      }
    },
    {
      "cell_type": "code",
      "execution_count": null,
      "metadata": {
        "id": "7y-LUsP_FMX-",
        "colab": {
          "base_uri": "https://localhost:8080/"
        },
        "outputId": "ca3644ec-465d-450d-cfe5-3c2f0a24607c"
      },
      "outputs": [
        {
          "output_type": "stream",
          "name": "stdout",
          "text": [
            "15\n"
          ]
        }
      ],
      "source": [
        "def fun(n,sum):\n",
        "  if n<1:\n",
        "    print(sum)\n",
        "    return\n",
        "  fun(n-1,sum+n)\n",
        "\n",
        "\n",
        "n=5\n",
        "fun(n,sum=0)"
      ]
    },
    {
      "cell_type": "markdown",
      "source": [
        "Non-Parametric recurrsion"
      ],
      "metadata": {
        "id": "PJ0ze7BDKWqT"
      }
    },
    {
      "cell_type": "code",
      "source": [
        "def fun(n):\n",
        "  if n==0:\n",
        "    return 0\n",
        "  return n+fun(n-1)\n",
        "n=5\n",
        "print(fun(n))"
      ],
      "metadata": {
        "colab": {
          "base_uri": "https://localhost:8080/"
        },
        "id": "dO9I05LfJ3wC",
        "outputId": "7369ba8e-f5cd-4733-b190-afcb15ee4adc"
      },
      "execution_count": null,
      "outputs": [
        {
          "output_type": "stream",
          "name": "stdout",
          "text": [
            "15\n"
          ]
        }
      ]
    },
    {
      "cell_type": "markdown",
      "source": [
        "\n",
        "\n",
        "1.   The major difference between subset and subsequence is that order matter in subsequence\n",
        "2.   List item\n",
        "\n"
      ],
      "metadata": {
        "id": "KPdyzFCFNXbH"
      }
    },
    {
      "cell_type": "code",
      "source": [
        "def Subset(l,index=0,subset=[]):\n",
        "  if index==len(l):\n",
        "    print(subset)\n",
        "    return\n",
        "  Subset(l,index+1,subset)\n",
        "  Subset(l,index+1,subset+[l[index]])\n",
        "l=list(map(int,input().split()))\n",
        "Subset(l,index=0)"
      ],
      "metadata": {
        "colab": {
          "base_uri": "https://localhost:8080/"
        },
        "id": "KCoBFR8nKO3o",
        "outputId": "7173c535-2193-4dda-f5ff-ca206b4732a0"
      },
      "execution_count": null,
      "outputs": [
        {
          "output_type": "stream",
          "name": "stdout",
          "text": [
            "1 2 3\n",
            "[]\n",
            "[3]\n",
            "[2]\n",
            "[2, 3]\n",
            "[1]\n",
            "[1, 3]\n",
            "[1, 2]\n",
            "[1, 2, 3]\n"
          ]
        }
      ]
    },
    {
      "cell_type": "code",
      "source": [
        "def fun(arr,i=0,res=[]):\n",
        "  if i==len(arr):\n",
        "    print(res)\n",
        "    return\n",
        "  fun(arr,i+1,res)\n",
        "  fun(arr,i+1,res+[arr[i]])\n",
        "arr=[1,2,3,6]\n",
        "fun(arr)"
      ],
      "metadata": {
        "colab": {
          "base_uri": "https://localhost:8080/"
        },
        "id": "Z7BRUoK9g3wb",
        "outputId": "616caaa0-6ca0-4ff9-ba54-d748f51b8874"
      },
      "execution_count": 9,
      "outputs": [
        {
          "output_type": "stream",
          "name": "stdout",
          "text": [
            "[]\n",
            "[6]\n",
            "[3]\n",
            "[3, 6]\n",
            "[2]\n",
            "[2, 6]\n",
            "[2, 3]\n",
            "[2, 3, 6]\n",
            "[1]\n",
            "[1, 6]\n",
            "[1, 3]\n",
            "[1, 3, 6]\n",
            "[1, 2]\n",
            "[1, 2, 6]\n",
            "[1, 2, 3]\n",
            "[1, 2, 3, 6]\n"
          ]
        }
      ]
    },
    {
      "cell_type": "markdown",
      "source": [
        "Write a programm to"
      ],
      "metadata": {
        "id": "0x5X5VDhhQV4"
      }
    },
    {
      "cell_type": "code",
      "source": [
        "def fun(arr,i,k):\n",
        "  if k==0:\n",
        "    return True\n",
        "  if i==0:\n",
        "    return False\n",
        "  if arr[i-1]>k:\n",
        "    return fun(arr,i-1,k)\n",
        "  return fun(arr,i-1,k) or fun(arr,i-1,k-arr[i-1])\n",
        "arr=[1,2,3,6]\n",
        "k=7\n",
        "print(fun(arr,len(arr),k))"
      ],
      "metadata": {
        "colab": {
          "base_uri": "https://localhost:8080/"
        },
        "id": "bVtLydNxhPvW",
        "outputId": "aecafdc6-d96f-41d4-820d-be5880fb8a45"
      },
      "execution_count": 10,
      "outputs": [
        {
          "output_type": "stream",
          "name": "stdout",
          "text": [
            "True\n"
          ]
        }
      ]
    },
    {
      "cell_type": "code",
      "source": [
        "def frequent(l,target,i=0,c=0,t=None):\n",
        "    if t is None:\n",
        "        t=[]\n",
        "    if i==len(l):\n",
        "        return t\n",
        "    if l[i]==target:\n",
        "        t.append(c)\n",
        "        c = 0\n",
        "    else:\n",
        "        c += 1\n",
        "    return frequent(l,target,i+1,c,t)\n",
        "\n",
        "l = list(map(int, input().split()))\n",
        "target = int(input())\n",
        "result = frequent(l, target)\n",
        "print(result)\n"
      ],
      "metadata": {
        "id": "v_j6WkctOxr7",
        "colab": {
          "base_uri": "https://localhost:8080/"
        },
        "outputId": "8b2fe9e8-af4e-483d-906f-010fa4339c25"
      },
      "execution_count": 2,
      "outputs": [
        {
          "output_type": "stream",
          "name": "stdout",
          "text": [
            "1 3 5 1 2 2 3 3 5 2 1\n",
            "3\n",
            "[1, 4, 0]\n"
          ]
        }
      ]
    },
    {
      "cell_type": "markdown",
      "source": [
        "A. Dislike of Threes\n",
        "time limit per test1 second\n",
        "memory limit per test256 megabytes\n",
        "Polycarp doesn't like integers that are divisible by 3\n",
        " or end with the digit 3\n",
        " in their decimal representation. Integers that meet both conditions are disliked by Polycarp, too.\n",
        "\n",
        "Polycarp starts to write out the positive (greater than 0\n",
        ") integers which he likes: 1,2,4,5,7,8,10,11,14,16,…\n",
        ". Output the k\n",
        "-th element of this sequence (the elements are numbered from 1\n",
        ").\n",
        "\n",
        "Input\n",
        "The first line contains one integer t\n",
        " (1≤t≤100\n",
        ") — the number of test cases. Then t\n",
        " test cases follow.\n",
        "\n",
        "Each test case consists of one line containing one integer k\n",
        " (1≤k≤1000\n",
        ").\n",
        "\n",
        "Output\n",
        "For each test case, output in a separate line one integer x\n",
        " — the k\n",
        "-th element of the sequence that was written out by Polycarp.\n",
        "\n",
        "Example\n",
        "InputCopy\n",
        "10\n",
        "1\n",
        "2\n",
        "3\n",
        "4\n",
        "5\n",
        "6\n",
        "7\n",
        "8\n",
        "9\n",
        "1000\n",
        "OutputCopy\n",
        "1\n",
        "2\n",
        "4\n",
        "5\n",
        "7\n",
        "8\n",
        "10\n",
        "11\n",
        "14\n",
        "1666"
      ],
      "metadata": {
        "id": "RQntA243Trmh"
      }
    },
    {
      "cell_type": "code",
      "source": [
        "n = int(input())\n",
        "l = []\n",
        "for _ in range(n):\n",
        "    a = int(input())\n",
        "    l.append(a)\n",
        "\n",
        "s = []\n",
        "i = 1\n",
        "while len(s) <= max(l):\n",
        "    if i % 3 != 0 and i % 10 != 3:\n",
        "        s.append(i)\n",
        "    i += 1\n",
        "\n",
        "for idx in l:\n",
        "    print(s[idx - 1])\n",
        "\n",
        "\n",
        "\n",
        "\n",
        "\n"
      ],
      "metadata": {
        "colab": {
          "base_uri": "https://localhost:8080/"
        },
        "id": "6DRbMeBGTaXB",
        "outputId": "3f140178-0381-432b-9fc6-4cdb5e74f7ed"
      },
      "execution_count": 10,
      "outputs": [
        {
          "output_type": "stream",
          "name": "stdout",
          "text": [
            "10\n",
            "1\n",
            "2\n",
            "3\n",
            "4\n",
            "5\n",
            "6\n",
            "7\n",
            "8\n",
            "9\n",
            "1000\n",
            "1\n",
            "2\n",
            "4\n",
            "5\n",
            "7\n",
            "8\n",
            "10\n",
            "11\n",
            "14\n",
            "1666\n"
          ]
        }
      ]
    }
  ]
}