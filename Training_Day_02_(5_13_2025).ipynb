{
  "nbformat": 4,
  "nbformat_minor": 0,
  "metadata": {
    "colab": {
      "provenance": []
    },
    "kernelspec": {
      "name": "python3",
      "display_name": "Python 3"
    },
    "language_info": {
      "name": "python"
    }
  },
  "cells": [
    {
      "cell_type": "markdown",
      "source": [
        "power of two"
      ],
      "metadata": {
        "id": "WDiAO2LW10Ne"
      }
    },
    {
      "cell_type": "code",
      "source": [
        "n = int(input())\n",
        "print((n & (n - 1)) == 0 and n != 0)\n"
      ],
      "metadata": {
        "colab": {
          "base_uri": "https://localhost:8080/",
          "height": 304
        },
        "collapsed": true,
        "id": "Zc57g9KR1z6m",
        "outputId": "2b01ec57-763b-496f-abda-6889cfec51f3"
      },
      "execution_count": null,
      "outputs": [
        {
          "output_type": "error",
          "ename": "KeyboardInterrupt",
          "evalue": "Interrupted by user",
          "traceback": [
            "\u001b[0;31m---------------------------------------------------------------------------\u001b[0m",
            "\u001b[0;31mKeyboardInterrupt\u001b[0m                         Traceback (most recent call last)",
            "\u001b[0;32m<ipython-input-9-46891de4bdff>\u001b[0m in \u001b[0;36m<cell line: 0>\u001b[0;34m()\u001b[0m\n\u001b[0;32m----> 1\u001b[0;31m \u001b[0mn\u001b[0m \u001b[0;34m=\u001b[0m \u001b[0mint\u001b[0m\u001b[0;34m(\u001b[0m\u001b[0minput\u001b[0m\u001b[0;34m(\u001b[0m\u001b[0;34m)\u001b[0m\u001b[0;34m)\u001b[0m\u001b[0;34m\u001b[0m\u001b[0;34m\u001b[0m\u001b[0m\n\u001b[0m\u001b[1;32m      2\u001b[0m \u001b[0mprint\u001b[0m\u001b[0;34m(\u001b[0m\u001b[0;34m(\u001b[0m\u001b[0mn\u001b[0m \u001b[0;34m&\u001b[0m \u001b[0;34m(\u001b[0m\u001b[0mn\u001b[0m \u001b[0;34m-\u001b[0m \u001b[0;36m1\u001b[0m\u001b[0;34m)\u001b[0m\u001b[0;34m)\u001b[0m \u001b[0;34m==\u001b[0m \u001b[0;36m0\u001b[0m \u001b[0;32mand\u001b[0m \u001b[0mn\u001b[0m \u001b[0;34m!=\u001b[0m \u001b[0;36m0\u001b[0m\u001b[0;34m)\u001b[0m\u001b[0;34m\u001b[0m\u001b[0;34m\u001b[0m\u001b[0m\n",
            "\u001b[0;32m/usr/local/lib/python3.11/dist-packages/ipykernel/kernelbase.py\u001b[0m in \u001b[0;36mraw_input\u001b[0;34m(self, prompt)\u001b[0m\n\u001b[1;32m   1175\u001b[0m                 \u001b[0;34m\"raw_input was called, but this frontend does not support input requests.\"\u001b[0m\u001b[0;34m\u001b[0m\u001b[0;34m\u001b[0m\u001b[0m\n\u001b[1;32m   1176\u001b[0m             )\n\u001b[0;32m-> 1177\u001b[0;31m         return self._input_request(\n\u001b[0m\u001b[1;32m   1178\u001b[0m             \u001b[0mstr\u001b[0m\u001b[0;34m(\u001b[0m\u001b[0mprompt\u001b[0m\u001b[0;34m)\u001b[0m\u001b[0;34m,\u001b[0m\u001b[0;34m\u001b[0m\u001b[0;34m\u001b[0m\u001b[0m\n\u001b[1;32m   1179\u001b[0m             \u001b[0mself\u001b[0m\u001b[0;34m.\u001b[0m\u001b[0m_parent_ident\u001b[0m\u001b[0;34m[\u001b[0m\u001b[0;34m\"shell\"\u001b[0m\u001b[0;34m]\u001b[0m\u001b[0;34m,\u001b[0m\u001b[0;34m\u001b[0m\u001b[0;34m\u001b[0m\u001b[0m\n",
            "\u001b[0;32m/usr/local/lib/python3.11/dist-packages/ipykernel/kernelbase.py\u001b[0m in \u001b[0;36m_input_request\u001b[0;34m(self, prompt, ident, parent, password)\u001b[0m\n\u001b[1;32m   1217\u001b[0m             \u001b[0;32mexcept\u001b[0m \u001b[0mKeyboardInterrupt\u001b[0m\u001b[0;34m:\u001b[0m\u001b[0;34m\u001b[0m\u001b[0;34m\u001b[0m\u001b[0m\n\u001b[1;32m   1218\u001b[0m                 \u001b[0;31m# re-raise KeyboardInterrupt, to truncate traceback\u001b[0m\u001b[0;34m\u001b[0m\u001b[0;34m\u001b[0m\u001b[0m\n\u001b[0;32m-> 1219\u001b[0;31m                 \u001b[0;32mraise\u001b[0m \u001b[0mKeyboardInterrupt\u001b[0m\u001b[0;34m(\u001b[0m\u001b[0;34m\"Interrupted by user\"\u001b[0m\u001b[0;34m)\u001b[0m \u001b[0;32mfrom\u001b[0m \u001b[0;32mNone\u001b[0m\u001b[0;34m\u001b[0m\u001b[0;34m\u001b[0m\u001b[0m\n\u001b[0m\u001b[1;32m   1220\u001b[0m             \u001b[0;32mexcept\u001b[0m \u001b[0mException\u001b[0m\u001b[0;34m:\u001b[0m\u001b[0;34m\u001b[0m\u001b[0;34m\u001b[0m\u001b[0m\n\u001b[1;32m   1221\u001b[0m                 \u001b[0mself\u001b[0m\u001b[0;34m.\u001b[0m\u001b[0mlog\u001b[0m\u001b[0;34m.\u001b[0m\u001b[0mwarning\u001b[0m\u001b[0;34m(\u001b[0m\u001b[0;34m\"Invalid Message:\"\u001b[0m\u001b[0;34m,\u001b[0m \u001b[0mexc_info\u001b[0m\u001b[0;34m=\u001b[0m\u001b[0;32mTrue\u001b[0m\u001b[0;34m)\u001b[0m\u001b[0;34m\u001b[0m\u001b[0;34m\u001b[0m\u001b[0m\n",
            "\u001b[0;31mKeyboardInterrupt\u001b[0m: Interrupted by user"
          ]
        }
      ]
    },
    {
      "cell_type": "markdown",
      "source": [
        "MAJOR Difference Between Array and List\n",
        "\n",
        "\n",
        "1.   The array memory allocation is done in a sequeance,fixed, and of same data type\n",
        "2.   List memory allocation is done at random,can be altered,can be of any datatype\n",
        "\n"
      ],
      "metadata": {
        "id": "cUOyI1ZL5UrA"
      }
    },
    {
      "cell_type": "markdown",
      "source": [
        "\n",
        "\n",
        "> why does the index in list and array start with zero ?\n",
        "\n",
        "\n",
        "->Base address+offset * size of datatype\n",
        "->0*100+3*4\n",
        "->0*112\n",
        "\n",
        ">\n",
        "\n",
        "\n",
        "->if the index is initiated from 1 when fetched according to the program the starting adrees of next element is retrived then the intended element\n",
        "\n",
        "\n",
        "\n",
        "\n",
        "\n",
        "\n",
        "\n"
      ],
      "metadata": {
        "id": "DvmnimsA6tMG"
      }
    },
    {
      "cell_type": "markdown",
      "source": [
        "2. add the elements in the odd indexs of the list\n"
      ],
      "metadata": {
        "id": "TgvpGaHbF_8g"
      }
    },
    {
      "cell_type": "code",
      "source": [
        "l=list(map(int,input().split()))\n",
        "print(sum(l[1::2]))"
      ],
      "metadata": {
        "id": "jqli9TUx5Rgy",
        "colab": {
          "base_uri": "https://localhost:8080/"
        },
        "outputId": "223494e0-26dd-47c4-d989-10edf2ff6b00"
      },
      "execution_count": null,
      "outputs": [
        {
          "output_type": "stream",
          "name": "stdout",
          "text": [
            "2 3 5 6 7 4 8\n",
            "13\n"
          ]
        }
      ]
    },
    {
      "cell_type": "code",
      "source": [
        "l=list(map(int,input().split()))\n",
        "maxi=0\n",
        "count=0\n",
        "for i in l:\n",
        "  if i>maxi:\n",
        "    maxi=i\n",
        "    count+=1\n",
        "print(count)"
      ],
      "metadata": {
        "colab": {
          "base_uri": "https://localhost:8080/"
        },
        "id": "V7Rr0TRkK--s",
        "outputId": "89b84b85-0865-42ee-9f0c-e5d716d6dff9"
      },
      "execution_count": null,
      "outputs": [
        {
          "output_type": "stream",
          "name": "stdout",
          "text": [
            "2 4 5 6 4 7 3 9\n",
            "6\n"
          ]
        }
      ]
    },
    {
      "cell_type": "markdown",
      "source": [
        "A. Police Recruits\n",
        "time limit per test1 second\n",
        "memory limit per test256 megabytes\n",
        "The police department of your city has just started its journey. Initially, they don’t have any manpower. So, they started hiring new recruits in groups.\n",
        "\n",
        "Meanwhile, crimes keeps occurring within the city. One member of the police force can investigate only one crime during his/her lifetime.\n",
        "\n",
        "If there is no police officer free (isn't busy with crime) during the occurrence of a crime, it will go untreated.\n",
        "\n",
        "Given the chronological order of crime occurrences and recruit hirings, find the number of crimes which will go untreated.\n",
        "\n",
        "Input\n",
        "The first line of input will contain an integer n (1 ≤ n ≤ 105), the number of events. The next line will contain n space-separated integers.\n",
        "\n",
        "If the integer is -1 then it means a crime has occurred. Otherwise, the integer will be positive, the number of officers recruited together at that time. No more than 10 officers will be recruited at a time.\n",
        "\n",
        "Output\n",
        "Print a single integer, the number of crimes which will go untreated.\n",
        "\n",
        "Examples\n",
        "InputCopy\n",
        "3\n",
        "-1 -1 1\n",
        "OutputCopy\n",
        "2\n",
        "InputCopy\n",
        "8\n",
        "1 -1 1 -1 -1 1 1 1\n",
        "OutputCopy\n",
        "1\n",
        "InputCopy\n",
        "11\n",
        "-1 -1 2 -1 -1 -1 -1 -1 -1 -1 -1\n",
        "OutputCopy\n",
        "8\n",
        "Note\n",
        "Lets consider the second example:\n",
        "\n",
        "Firstly one person is hired.\n",
        "Then crime appears, the last hired person will investigate this crime.\n",
        "One more person is hired.\n",
        "One more crime appears, the last hired person will investigate this crime.\n",
        "Crime appears. There is no free policeman at the time, so this crime will go untreated.\n",
        "One more person is hired.\n",
        "One more person is hired.\n",
        "One more person is hired.\n",
        "The answer is one, as one crime (on step 5) will go untreated."
      ],
      "metadata": {
        "id": "PtOFDaB0Pfmi"
      }
    },
    {
      "cell_type": "code",
      "source": [
        "n=int(input())\n",
        "police=0\n",
        "cases=0\n",
        "l=list(map(int,input().split()))\n",
        "for i in l:\n",
        "  if i==-1:\n",
        "    if police>0:\n",
        "      police-=1\n",
        "    else:\n",
        "      cases+=1\n",
        "  else:\n",
        "    police+=i\n",
        "print(cases)\n",
        "\n"
      ],
      "metadata": {
        "colab": {
          "base_uri": "https://localhost:8080/"
        },
        "id": "PeGoRo-QPOTE",
        "outputId": "aaadf7b6-550e-433f-cb5e-1354f1355e9c"
      },
      "execution_count": null,
      "outputs": [
        {
          "output_type": "stream",
          "name": "stdout",
          "text": [
            "8\n",
            "1 -1 1 -1 -1 1 1 1\n",
            "1\n"
          ]
        }
      ]
    },
    {
      "cell_type": "code",
      "source": [
        "n=int(input())\n",
        "candidate=list(map(int,input().split()))\n",
        "age=list(map(int,input().split()))\n",
        "n1=max(candidate)+1\n",
        "l=[0]*n1\n",
        "for i in range (0,n):\n",
        "  if(age[i]>=18):\n",
        "    x=candidate[i]\n",
        "    l[x]+=1\n",
        "\n",
        "print(l.index(max(l)))\n",
        "\n"
      ],
      "metadata": {
        "colab": {
          "base_uri": "https://localhost:8080/",
          "height": 263
        },
        "id": "jDtHCUx0QI14",
        "outputId": "82845908-3f97-4a97-8e65-f1b09ea5464e"
      },
      "execution_count": null,
      "outputs": [
        {
          "name": "stdout",
          "output_type": "stream",
          "text": [
            "5\n",
            "1 2 3 1 2\n",
            "17 21 20 19 18\n"
          ]
        },
        {
          "output_type": "error",
          "ename": "TypeError",
          "evalue": "'int' object is not callable",
          "traceback": [
            "\u001b[0;31m---------------------------------------------------------------------------\u001b[0m",
            "\u001b[0;31mTypeError\u001b[0m                                 Traceback (most recent call last)",
            "\u001b[0;32m<ipython-input-27-8153b9261579>\u001b[0m in \u001b[0;36m<cell line: 0>\u001b[0;34m()\u001b[0m\n\u001b[1;32m      2\u001b[0m \u001b[0mcandidate\u001b[0m\u001b[0;34m=\u001b[0m\u001b[0mlist\u001b[0m\u001b[0;34m(\u001b[0m\u001b[0mmap\u001b[0m\u001b[0;34m(\u001b[0m\u001b[0mint\u001b[0m\u001b[0;34m,\u001b[0m\u001b[0minput\u001b[0m\u001b[0;34m(\u001b[0m\u001b[0;34m)\u001b[0m\u001b[0;34m.\u001b[0m\u001b[0msplit\u001b[0m\u001b[0;34m(\u001b[0m\u001b[0;34m)\u001b[0m\u001b[0;34m)\u001b[0m\u001b[0;34m)\u001b[0m\u001b[0;34m\u001b[0m\u001b[0;34m\u001b[0m\u001b[0m\n\u001b[1;32m      3\u001b[0m \u001b[0mage\u001b[0m\u001b[0;34m=\u001b[0m\u001b[0mlist\u001b[0m\u001b[0;34m(\u001b[0m\u001b[0mmap\u001b[0m\u001b[0;34m(\u001b[0m\u001b[0mint\u001b[0m\u001b[0;34m,\u001b[0m\u001b[0minput\u001b[0m\u001b[0;34m(\u001b[0m\u001b[0;34m)\u001b[0m\u001b[0;34m.\u001b[0m\u001b[0msplit\u001b[0m\u001b[0;34m(\u001b[0m\u001b[0;34m)\u001b[0m\u001b[0;34m)\u001b[0m\u001b[0;34m)\u001b[0m\u001b[0;34m\u001b[0m\u001b[0;34m\u001b[0m\u001b[0m\n\u001b[0;32m----> 4\u001b[0;31m \u001b[0mn1\u001b[0m\u001b[0;34m=\u001b[0m\u001b[0mmax\u001b[0m\u001b[0;34m(\u001b[0m\u001b[0mcandidate\u001b[0m\u001b[0;34m)\u001b[0m\u001b[0;34m+\u001b[0m\u001b[0;36m1\u001b[0m\u001b[0;34m\u001b[0m\u001b[0;34m\u001b[0m\u001b[0m\n\u001b[0m\u001b[1;32m      5\u001b[0m \u001b[0ml\u001b[0m\u001b[0;34m=\u001b[0m\u001b[0;34m[\u001b[0m\u001b[0;36m0\u001b[0m\u001b[0;34m]\u001b[0m\u001b[0;34m*\u001b[0m\u001b[0mn1\u001b[0m\u001b[0;34m\u001b[0m\u001b[0;34m\u001b[0m\u001b[0m\n\u001b[1;32m      6\u001b[0m \u001b[0;32mfor\u001b[0m \u001b[0mi\u001b[0m \u001b[0;32min\u001b[0m \u001b[0mrange\u001b[0m \u001b[0;34m(\u001b[0m\u001b[0;36m0\u001b[0m\u001b[0;34m,\u001b[0m\u001b[0mn\u001b[0m\u001b[0;34m)\u001b[0m\u001b[0;34m:\u001b[0m\u001b[0;34m\u001b[0m\u001b[0;34m\u001b[0m\u001b[0m\n",
            "\u001b[0;31mTypeError\u001b[0m: 'int' object is not callable"
          ]
        }
      ]
    },
    {
      "cell_type": "code",
      "source": [
        "n = int(input())\n",
        "candidate = list(map(int, input().split()))\n",
        "age = list(map(int, input().split()))\n",
        "\n",
        "l = max(candidate) * [0]\n",
        "\n",
        "for i in range(n):\n",
        "    if age[i] >= 18:\n",
        "        x = candidate[i] - 1\n",
        "        l[x] += 1\n",
        "\n",
        "if l.count(max(l)) != 1:\n",
        "    print(-1)\n",
        "else:\n",
        "    print(l.index(max(l)) + 1)"
      ],
      "metadata": {
        "colab": {
          "base_uri": "https://localhost:8080/"
        },
        "id": "pxjMqwRta0k2",
        "outputId": "78ce781a-7cdc-4f8e-a983-cf72918f1dec"
      },
      "execution_count": null,
      "outputs": [
        {
          "output_type": "stream",
          "name": "stdout",
          "text": [
            "5\n",
            "1 2 1 3 2\n",
            "17 21 20 19 18\n",
            "2\n"
          ]
        }
      ]
    },
    {
      "cell_type": "markdown",
      "source": [
        "swapping of numbers withot the third parameter"
      ],
      "metadata": {
        "id": "gLQnnh4wyv8q"
      }
    },
    {
      "cell_type": "code",
      "source": [
        "a=5\n",
        "b=7\n",
        "a=a^b  #step 1: a= 101 ^ 111 ---> a= 010 , b= 111\n",
        "b=a^b  #step 2: a= 010 ^ 111 ---> a= 010 , b= 101\n",
        "a=a^b  #step 3: a= 010 ^ 101 ---> a= 111 , b= 101\n",
        "print(a,b)"
      ],
      "metadata": {
        "id": "xS7oGHtVYPtt",
        "colab": {
          "base_uri": "https://localhost:8080/"
        },
        "outputId": "bf54852c-f09f-4fd4-fcfe-5a10b802db3a"
      },
      "execution_count": null,
      "outputs": [
        {
          "output_type": "stream",
          "name": "stdout",
          "text": [
            "7 5\n"
          ]
        }
      ]
    },
    {
      "cell_type": "code",
      "source": [
        "# X<<Y\n",
        "# X*2**Y\n",
        "\n",
        "# X>>Y\n",
        "# X/2**Y\n"
      ],
      "metadata": {
        "id": "iN3jd2pE0q-1"
      },
      "execution_count": null,
      "outputs": []
    },
    {
      "cell_type": "markdown",
      "source": [
        " Difference from append():\n",
        "```\n",
        "\n",
        "\n",
        "a = [1, 2, 3]\n",
        "b = [4, 5]\n",
        "\n",
        "a.append(b)\n",
        "print(a)\n",
        " # Output: [1, 2, 3, [4, 5]]  → adds `b` as a single element\n",
        "\n",
        "a.extend(b)\n",
        "print(a)  \n",
        "# Output: [1, 2, 3, 4, 5]  → flattens `b` into `a`"
      ],
      "metadata": {
        "id": "WT3v-EK-7Xqa"
      }
    },
    {
      "cell_type": "code",
      "source": [
        "n=int(input())\n",
        "x=0\n",
        "for i in range(1,n+1):\n",
        "  x^=i\n",
        "print(x)"
      ],
      "metadata": {
        "colab": {
          "base_uri": "https://localhost:8080/"
        },
        "id": "T4hxC--M8P_0",
        "outputId": "1ffa0bab-c69a-4465-e53b-5cd2f1305da4"
      },
      "execution_count": null,
      "outputs": [
        {
          "output_type": "stream",
          "name": "stdout",
          "text": [
            "2\n",
            "3\n"
          ]
        }
      ]
    },
    {
      "cell_type": "code",
      "source": [
        "n=int(input())\n",
        "if n%4==1:\n",
        "  print(1)\n",
        "if n%4==2:\n",
        "  print(n+1)\n",
        "if n%4==3:\n",
        "  print(0)\n",
        "if n%4==0:\n",
        "  print(n)"
      ],
      "metadata": {
        "colab": {
          "base_uri": "https://localhost:8080/"
        },
        "id": "dILdYuTt9qJA",
        "outputId": "5c9d976c-3165-4800-a503-4a1eb1398a01"
      },
      "execution_count": null,
      "outputs": [
        {
          "output_type": "stream",
          "name": "stdout",
          "text": [
            "7\n",
            "0\n"
          ]
        }
      ]
    }
  ]
}