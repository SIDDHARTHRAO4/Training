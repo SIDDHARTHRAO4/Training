{
  "nbformat": 4,
  "nbformat_minor": 0,
  "metadata": {
    "colab": {
      "provenance": []
    },
    "kernelspec": {
      "name": "python3",
      "display_name": "Python 3"
    },
    "language_info": {
      "name": "python"
    }
  },
  "cells": [
    {
      "cell_type": "code",
      "execution_count": null,
      "metadata": {
        "id": "YvDuQMwd-AC6"
      },
      "outputs": [],
      "source": [
        "Training Day - 02 (5/13/2025)"
      ]
    },
    {
      "cell_type": "markdown",
      "source": [
        "Recurrsion\n"
      ],
      "metadata": {
        "id": "Xfo_XHdu-EjB"
      }
    },
    {
      "cell_type": "code",
      "source": [
        "def recall(n):\n",
        "  if n==0:\n",
        "    return\n",
        "  print(n,end=\" \")\n",
        "  recall(n-1)\n",
        "\n",
        "n=int(input())\n",
        "recall(n)"
      ],
      "metadata": {
        "colab": {
          "base_uri": "https://localhost:8080/"
        },
        "id": "i24pEvFFBlLy",
        "outputId": "606be7d1-ad7d-4d85-80da-77a24f908afb"
      },
      "execution_count": null,
      "outputs": [
        {
          "output_type": "stream",
          "name": "stdout",
          "text": [
            "5\n",
            "5 4 3 2 1 "
          ]
        }
      ]
    },
    {
      "cell_type": "markdown",
      "source": [
        "fun(3)\n",
        "if(3==0)\n",
        "print(3)\n",
        "fun(3-1)\n",
        "\n",
        "---\n",
        "fun(2)\n",
        "if(2==0)\n",
        "print(2)\n",
        "print(2-1)\n",
        "\n",
        "---\n",
        "fun(1)\n",
        "if(1==0)\n",
        "print(1)\n",
        "fun(0)\n",
        "\n",
        "\n",
        "---\n",
        "fun(0)\n",
        "if(0==0)\n",
        "return\n",
        "\n",
        "\n",
        "\n",
        "\n",
        "\n"
      ],
      "metadata": {
        "id": "Oh27AAe_DsnO"
      }
    },
    {
      "cell_type": "code",
      "source": [
        "def recall(n):\n",
        "  if n==0:\n",
        "    return\n",
        "  recall(n-1)\n",
        "  print(n,end=\" \")\n",
        "\n",
        "n=int(input())\n",
        "recall(n)"
      ],
      "metadata": {
        "id": "UZddB0ZwFJw1"
      },
      "execution_count": null,
      "outputs": []
    },
    {
      "cell_type": "code",
      "source": [
        "# prompt: 1 2 3 4 5 4 3 2 1 using recursion\n",
        "def recall(n,cuurent=1):\n",
        "  if cuurent>n:\n",
        "    return\n",
        "  print(cuurent,end=\" \")\n",
        "  recall(n,cuurent+1)\n",
        "  print(cuurent,end=\" \")\n",
        "\n",
        "n=int(input())\n",
        "recall(n)\n"
      ],
      "metadata": {
        "id": "srLyd1_s-JRy",
        "colab": {
          "base_uri": "https://localhost:8080/"
        },
        "outputId": "aeb09880-95e3-4895-b829-6cde03d07875"
      },
      "execution_count": null,
      "outputs": [
        {
          "output_type": "stream",
          "name": "stdout",
          "text": [
            "5\n",
            "1 2 3 4 5 5 4 3 2 1 "
          ]
        }
      ]
    },
    {
      "cell_type": "code",
      "source": [
        "def recall(n):\n",
        "  if n==0:\n",
        "    return 200\n",
        "  print(n,end=\" \")\n",
        "  recall(n-1)\n",
        "  if n!=1:\n",
        "    print(n,end=\" \")\n",
        "\n",
        "\n",
        "n=int(input())\n",
        "recall(n)\n",
        "\n"
      ],
      "metadata": {
        "colab": {
          "base_uri": "https://localhost:8080/"
        },
        "id": "eCMVXUdXHjc4",
        "outputId": "a127d056-4278-464e-930d-b35f98bb62e0"
      },
      "execution_count": null,
      "outputs": [
        {
          "output_type": "stream",
          "name": "stdout",
          "text": [
            "5\n",
            "5 4 3 2 1 2 3 4 5 "
          ]
        }
      ]
    },
    {
      "cell_type": "code",
      "source": [
        "def recall(n):\n",
        "  if n==0:\n",
        "    return 200\n",
        "  if(n%2==1):\n",
        "    print(n,end=\" \")\n",
        "  recall(n-1)\n",
        "  if n!=1:\n",
        "    if(n%2==0):\n",
        "      print(n,end=\" \")\n",
        "\n",
        "\n",
        "n=int(input())\n",
        "recall(n)"
      ],
      "metadata": {
        "colab": {
          "base_uri": "https://localhost:8080/"
        },
        "id": "1InJvYwZKkkk",
        "outputId": "bbd519fd-cbda-44c9-b1ec-ae2e1e949fa3"
      },
      "execution_count": null,
      "outputs": [
        {
          "output_type": "stream",
          "name": "stdout",
          "text": [
            "5\n",
            "5 3 1 2 4 "
          ]
        }
      ]
    },
    {
      "cell_type": "code",
      "source": [
        "def recall(n,temp=1):\n",
        "  if temp>n:\n",
        "    return\n",
        "  print(temp,end=\" \")\n",
        "  recall(n,temp+1)\n",
        "  if temp!=n:\n",
        "    print(temp,end=\" \")\n",
        "\n",
        "n=int(input())\n",
        "recall(n)"
      ],
      "metadata": {
        "colab": {
          "base_uri": "https://localhost:8080/"
        },
        "id": "ABjPTGxmLOsL",
        "outputId": "d0159f3a-1d8b-4de9-caa5-e6b9dcbf9e41"
      },
      "execution_count": null,
      "outputs": [
        {
          "output_type": "stream",
          "name": "stdout",
          "text": [
            "5\n",
            "1 2 3 4 5 4 3 2 1 "
          ]
        }
      ]
    },
    {
      "cell_type": "markdown",
      "source": [
        "write a code to find factorial for a given number?"
      ],
      "metadata": {
        "id": "dRPCZ4iGRWIl"
      }
    },
    {
      "cell_type": "code",
      "source": [
        "def fact(n):\n",
        "  if n==0:\n",
        "    return 1\n",
        "  return n*fact(n-1)\n",
        "n=int(input())\n",
        "print(fact(n))"
      ],
      "metadata": {
        "colab": {
          "base_uri": "https://localhost:8080/"
        },
        "id": "KlKsBJJSRvgi",
        "outputId": "13d05657-f4a9-47ec-db0f-3a192a770e19"
      },
      "execution_count": null,
      "outputs": [
        {
          "output_type": "stream",
          "name": "stdout",
          "text": [
            "5\n",
            "120\n"
          ]
        }
      ]
    },
    {
      "cell_type": "markdown",
      "source": [
        "Write a code to find the given number is prime or not"
      ],
      "metadata": {
        "id": "4_zMUkGiSV_9"
      }
    },
    {
      "cell_type": "code",
      "source": [
        "def primeornot(n,i):\n",
        "  if i==n:\n",
        "    return True\n",
        "  if n%i==0:\n",
        "    return False\n",
        "  return primeornot(n,i+1)\n",
        "n=int(input())\n",
        "print(primeornot(n,2))"
      ],
      "metadata": {
        "colab": {
          "base_uri": "https://localhost:8080/"
        },
        "id": "02SqJYoOSP2H",
        "outputId": "c03f375c-20b0-4b39-8337-bafcaeb2a874"
      },
      "execution_count": null,
      "outputs": [
        {
          "output_type": "stream",
          "name": "stdout",
          "text": [
            "16\n",
            "False\n"
          ]
        }
      ]
    },
    {
      "cell_type": "markdown",
      "source": [
        "write a code to print fibonacii series"
      ],
      "metadata": {
        "id": "hrH8uh8PUKx8"
      }
    },
    {
      "cell_type": "code",
      "source": [
        "def fibonaci(n,a,b):\n",
        "  if n==0:\n",
        "    return 0\n",
        "  print(a,end=\" \")\n",
        "  fibonaci(n-1,b,a+b)\n",
        "n=int(input())\n",
        "fibonaci(n,0,1)"
      ],
      "metadata": {
        "colab": {
          "base_uri": "https://localhost:8080/"
        },
        "id": "yUcOPDlkTVA1",
        "outputId": "d3390a83-736f-4156-c051-ddb5f5d4eeda"
      },
      "execution_count": null,
      "outputs": [
        {
          "output_type": "stream",
          "name": "stdout",
          "text": [
            "10\n",
            "0 1 1 2 3 5 8 13 21 34 "
          ]
        }
      ]
    },
    {
      "cell_type": "markdown",
      "source": [
        "Write a code to reverse a number"
      ],
      "metadata": {
        "id": "mvqWH_k5a9Nc"
      }
    },
    {
      "cell_type": "code",
      "source": [
        "def reverse(n):\n",
        "  if n==0:\n",
        "    return\n",
        "  print(n%10,end=\"\")\n",
        "  reverse(n//10)\n",
        "\n",
        "n=int(input())\n",
        "reverse(n)"
      ],
      "metadata": {
        "colab": {
          "base_uri": "https://localhost:8080/"
        },
        "id": "JUca0fICa75N",
        "outputId": "5e888196-93f6-47e8-ad22-b986f667a3f5"
      },
      "execution_count": null,
      "outputs": [
        {
          "output_type": "stream",
          "name": "stdout",
          "text": [
            "123\n",
            "321"
          ]
        }
      ]
    },
    {
      "cell_type": "markdown",
      "source": [
        "write a code print minimum steps to reach"
      ],
      "metadata": {
        "id": "ZQpW2lHyi1or"
      }
    },
    {
      "cell_type": "code",
      "source": [
        "def fun(n):\n",
        "  if n==1:\n",
        "    return 0\n",
        "  elif n%2==0:\n",
        "    return 1+fun(n//2)\n",
        "  else:\n",
        "    return 1+min(fun(n-1),fun(n+1))\n",
        "\n",
        "n=int(input())\n",
        "print(fun(n))"
      ],
      "metadata": {
        "id": "fGnROLZ4iytL",
        "colab": {
          "base_uri": "https://localhost:8080/"
        },
        "outputId": "23698516-dba4-41bf-e2e5-71ed12ca94ab"
      },
      "execution_count": null,
      "outputs": [
        {
          "output_type": "stream",
          "name": "stdout",
          "text": [
            "15\n",
            "5\n"
          ]
        }
      ]
    },
    {
      "cell_type": "markdown",
      "source": [
        "Write a code to print summ of all elememts in a list using recursion"
      ],
      "metadata": {
        "id": "KAWiAZGy4aK8"
      }
    },
    {
      "cell_type": "code",
      "source": [
        "def fun(l,i=0):\n",
        "    if i==len(l):\n",
        "        return 0\n",
        "    return l[i]+fun(l,i+1)\n",
        "l=[1,4,3,2,5]\n",
        "print(fun(l))"
      ],
      "metadata": {
        "id": "U935KOWFfD0t",
        "colab": {
          "base_uri": "https://localhost:8080/"
        },
        "outputId": "253a58bb-7f41-4c25-8f3a-eaeed8026ae5"
      },
      "execution_count": null,
      "outputs": [
        {
          "output_type": "stream",
          "name": "stdout",
          "text": [
            "15\n"
          ]
        }
      ]
    },
    {
      "cell_type": "code",
      "source": [
        "def prime(n,i=2):\n",
        "    if i*i>n:\n",
        "        return True\n",
        "    if n%i==0:\n",
        "        return False\n",
        "    return prime(n,i+1)\n",
        "\n",
        "def fun(l,i=0):\n",
        "    if i==len(l):\n",
        "        return 0\n",
        "    if prime(l[i]):\n",
        "        return 1+fun(l,i+1)\n",
        "    return fun(l,i+1)\n",
        "l=[11,4,3,6,5,7]\n",
        "print(fun(l))"
      ],
      "metadata": {
        "colab": {
          "base_uri": "https://localhost:8080/"
        },
        "id": "HEQecgYD60Or",
        "outputId": "2103f057-7c89-4ed6-fa12-1b524213e70f"
      },
      "execution_count": null,
      "outputs": [
        {
          "output_type": "stream",
          "name": "stdout",
          "text": [
            "4\n"
          ]
        }
      ]
    },
    {
      "cell_type": "markdown",
      "source": [
        "\n",
        "Problem Statement\n",
        "You are given a string str. Your task is to find the number of checks that is not satisfied by the string str by checking the validation of the string str if it's a strong password or not. A password is a strong password only if:\n",
        "It contains at least 6 characters and at most 22 characters.\n",
        "It must contain at least one uppercase character.\n",
        "It must contain at least one lowercase character.\n",
        "It must contain at least two special characters (@, !, &, ^,%,*,#).\n",
        "It must contain at least one numeric value.\n",
        "It must not contain any two same consecutive character.\n",
        "Input Format:\n",
        "The input consists of a single line: The first line contains a string str. The input will be read from the STDIN by the candidate.\n",
        "Output Format:\n",
        "Print the number that represents the number of checks that is not satisfied by the str. The output will be matched to the candidate's output printed on the STDOUT.\n",
        "Sample input:\n",
        "A1b@lcd\n",
        "Sample Output:\n",
        "0\n",
        "Sample input:\n",
        "aabboc\n",
        "Sample output:\n",
        "4\n"
      ],
      "metadata": {
        "id": "u6Z4dI9eNERp"
      }
    },
    {
      "cell_type": "code",
      "source": [
        "def least(String):\n",
        "  if len(String)>=6 and len(String)<=22:\n",
        "    return True\n",
        "  return False\n",
        "def uppercase(String):\n",
        "  for i in String:\n",
        "    if i.isupper():\n",
        "      return True\n",
        "  return False\n",
        "def lowercase(String):\n",
        "  for i in String:\n",
        "    if i.islower():\n",
        "      return True\n",
        "  return False\n",
        "def special(String):\n",
        "  count=0\n",
        "  for i in String:\n",
        "    if i in [\"@\",\"!\",\"&\",\"^\",\"%\",\"*\",\"#\"]:\n",
        "      count+=1\n",
        "  if count>=2:\n",
        "    return True\n",
        "  return False\n",
        "def numeric(String):\n",
        "  for i in String:\n",
        "    if i.isnumeric():\n",
        "      return True\n",
        "  return False\n",
        "def consecutive(String):\n",
        "  for i in range (len(String)):\n",
        "    if i<len(String)-1:\n",
        "      if String[i]==String[i+1]:\n",
        "        return False\n",
        "  return True\n",
        "\n",
        "String=input()\n",
        "counting=0\n",
        "if least(String) is True:\n",
        "  counting+=1\n",
        "if uppercase(String) is True:\n",
        "  counting+=1\n",
        "if lowercase(String) is True:\n",
        "  counting+=1\n",
        "if special(String) is True:\n",
        "  counting+=1\n",
        "if numeric(String) is True:\n",
        "  counting+=1\n",
        "if consecutive(String) is True:\n",
        "  counting+=1\n",
        "print(counting)"
      ],
      "metadata": {
        "colab": {
          "base_uri": "https://localhost:8080/"
        },
        "id": "FYKZtJgbND9g",
        "outputId": "12948ef5-07f4-43d8-faf0-ca45984980bf"
      },
      "execution_count": null,
      "outputs": [
        {
          "output_type": "stream",
          "name": "stdout",
          "text": [
            "aabboc\n",
            "2\n"
          ]
        }
      ]
    },
    {
      "cell_type": "markdown",
      "source": [
        " Beautiful Year\n",
        "time limit per test2 seconds\n",
        "memory limit per test256 megabytes\n",
        "It seems like the year of 2013 came only yesterday. Do you know a curious fact? The year of 2013 is the first year after the old 1987 with only distinct digits.\n",
        "\n",
        "Now you are suggested to solve the following problem: given a year number, find the minimum year number which is strictly larger than the given one and has only distinct digits.\n",
        "\n",
        "Input\n",
        "The single line contains integer y (1000 ≤ y ≤ 9000) — the year number.\n",
        "\n",
        "Output\n",
        "Print a single integer — the minimum year number that is strictly larger than y and all it's digits are distinct. It is guaranteed that the answer exists.\n",
        "\n",
        "Examples\n",
        "InputCopy\n",
        "1987\n",
        "OutputCopy\n",
        "2013\n",
        "InputCopy\n",
        "2013\n",
        "OutputCopy\n",
        "2014"
      ],
      "metadata": {
        "id": "q-AMeOgGTuFq"
      }
    }
  ]
}